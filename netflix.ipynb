{
 "cells": [
  {
   "cell_type": "code",
   "execution_count": null,
   "metadata": {},
   "outputs": [],
   "source": [
    "# The packages required for this project are listed below\n",
    "\n",
    "import pandas as pd # Dataset preparation and \"pythonisation\"\n",
    "import matplotlib.pyplot as plt # Dataset visualisation\n",
    "import numpy as np # Linear algebra utilities"
   ]
  },
  {
   "cell_type": "markdown",
   "metadata": {},
   "source": [
    "The dataset we'll be analysing is the [Kaggle Netflix Movies and TV Shows](https://www.kaggle.com/datasets/shivamb/netflix-shows) dataset. The local copy used in this analysis is accurate as of August 26, 2022."
   ]
  },
  {
   "cell_type": "code",
   "execution_count": null,
   "metadata": {},
   "outputs": [],
   "source": [
    "netflix = pd.read_csv(\"data/netflix_titles.csv\")\n",
    "netflix.columns"
   ]
  },
  {
   "cell_type": "markdown",
   "metadata": {},
   "source": [
    "### Dataset Preparation "
   ]
  },
  {
   "cell_type": "markdown",
   "metadata": {},
   "source": [
    "The ```title```, ```director```, ```cast```, ```show_id```, ```rating``` and ```description``` columns will not be needed for a numerical analysis and will be deleted."
   ]
  },
  {
   "cell_type": "code",
   "execution_count": null,
   "metadata": {},
   "outputs": [],
   "source": [
    "netflix.drop([\"show_id\", \"title\", \"director\", \"cast\", \"description\", \"rating\"], axis=1, inplace=True)\n",
    "netflix"
   ]
  },
  {
   "cell_type": "markdown",
   "metadata": {},
   "source": [
    "In addition, we will only be analysing data from 2000 onwards, hence titles that have ```release_year```s before that must be deleted."
   ]
  },
  {
   "cell_type": "code",
   "execution_count": null,
   "metadata": {},
   "outputs": [],
   "source": [
    "netflix = netflix.drop(netflix[netflix[\"release_year\"] < 2000].index)"
   ]
  },
  {
   "cell_type": "markdown",
   "metadata": {},
   "source": [
    "Now that our dataset has been slimmed down, we will check for any null values. Entries with such values will be investigated in order to make sure that the error is not systematic. "
   ]
  },
  {
   "cell_type": "code",
   "execution_count": null,
   "metadata": {},
   "outputs": [],
   "source": [
    "def checkForNullEntries():\n",
    "\treturn netflix.isnull().any()\n",
    "\n",
    "checkForNullEntries()"
   ]
  },
  {
   "cell_type": "markdown",
   "metadata": {},
   "source": [
    "We can see that the country, date_added and duration columns have been identified to have null values. It will help to define a function that can filter entries by the presence of null values in a defined column."
   ]
  },
  {
   "cell_type": "code",
   "execution_count": null,
   "metadata": {},
   "outputs": [],
   "source": [
    "def filterIncompleteEntries(col):\n",
    "\tentries = netflix[netflix[col].isnull()]\n",
    "\treturn entries"
   ]
  },
  {
   "cell_type": "markdown",
   "metadata": {},
   "source": [
    "The most difficult column to filter will be ```country```, so we'll start with that."
   ]
  },
  {
   "cell_type": "code",
   "execution_count": null,
   "metadata": {},
   "outputs": [],
   "source": [
    "country_incomplete_entries = filterIncompleteEntries(\"country\")\n",
    "country_incomplete_entries[\"country\"]"
   ]
  },
  {
   "cell_type": "markdown",
   "metadata": {},
   "source": [
    "The only reasonable aspect of an entry that could lead to a systemic error would be the listed_in column (which is also linked to the type column), hence examining what values are set for this column for these entries should reveal any systemic trends."
   ]
  },
  {
   "cell_type": "code",
   "execution_count": null,
   "metadata": {},
   "outputs": [],
   "source": [
    "set(country_incomplete_entries[\"listed_in\"])"
   ]
  },
  {
   "cell_type": "markdown",
   "metadata": {},
   "source": [
    "As expected, some categories stand out. We notice that some shows have been labelled as \"British TV Shows\" and some others have been labelled as \"Korean TV Shows\". The countries that these shows/movies can be attributed to is clear. One other intriguing category was \"Spanish TV Shows\", though it is unclear if this refers to the language or the country. Aside from these, there are no other categories that explicity stand out, hence these entries must be deleted."
   ]
  },
  {
   "cell_type": "code",
   "execution_count": null,
   "metadata": {},
   "outputs": [],
   "source": [
    "british_mask = netflix[\"listed_in\"].apply(lambda categories: \"British TV Shows\" in categories)\n",
    "netflix.loc[british_mask, \"country\"] = \"United Kingdom\""
   ]
  },
  {
   "cell_type": "markdown",
   "metadata": {},
   "source": [
    "Thus all entries listed in \"British TV Shows\" have their country attributes correctly marked as \"United Kingdom\"."
   ]
  },
  {
   "cell_type": "code",
   "execution_count": null,
   "metadata": {},
   "outputs": [],
   "source": [
    "netflix[british_mask]"
   ]
  },
  {
   "cell_type": "markdown",
   "metadata": {},
   "source": [
    "We do the same for Korean TV shows."
   ]
  },
  {
   "cell_type": "code",
   "execution_count": null,
   "metadata": {},
   "outputs": [],
   "source": [
    "korean_mask = netflix[\"listed_in\"].apply(lambda categories: \"Korean TV Shows\" in categories)\n",
    "netflix.loc[korean_mask, \"country\"] = \"South Korea\""
   ]
  },
  {
   "cell_type": "markdown",
   "metadata": {},
   "source": [
    "Now we can check whether the data has been correctly modified."
   ]
  },
  {
   "cell_type": "code",
   "execution_count": null,
   "metadata": {},
   "outputs": [],
   "source": [
    "netflix[korean_mask]"
   ]
  },
  {
   "cell_type": "markdown",
   "metadata": {},
   "source": [
    "All that remains now is to delete the extra rows."
   ]
  },
  {
   "cell_type": "code",
   "execution_count": null,
   "metadata": {},
   "outputs": [],
   "source": [
    "netflix = netflix.drop(netflix.index[netflix[\"country\"].isnull()])\n",
    "checkForNullEntries()"
   ]
  },
  {
   "cell_type": "markdown",
   "metadata": {},
   "source": [
    "As expected, none of the values present in the countries column are null. Let us now clean the ```date_added``` and ```duration``` columns."
   ]
  },
  {
   "cell_type": "code",
   "execution_count": null,
   "metadata": {},
   "outputs": [],
   "source": [
    "date_added_incomplete_entries = filterIncompleteEntries(\"date_added\")\n",
    "duration_incomplete_entries = filterIncompleteEntries(\"duration\")"
   ]
  },
  {
   "cell_type": "markdown",
   "metadata": {},
   "source": [
    "Starting with ```date_added```:"
   ]
  },
  {
   "cell_type": "code",
   "execution_count": null,
   "metadata": {},
   "outputs": [],
   "source": [
    "date_added_incomplete_entries"
   ]
  },
  {
   "cell_type": "markdown",
   "metadata": {},
   "source": [
    "There's only nine entries here, and none of their ```listed_in``` values seem to be correlated. The best course of action is to simply mark the first of January on their ```release_year``` as their ```date_added```."
   ]
  },
  {
   "cell_type": "code",
   "execution_count": null,
   "metadata": {},
   "outputs": [],
   "source": [
    "null_date_added = netflix[\"date_added\"].isnull()\n",
    "netflix.loc[null_date_added, \"date_added\"] = f\"January 1, {netflix.loc[null_date_added, 'release_year']}\""
   ]
  },
  {
   "cell_type": "markdown",
   "metadata": {},
   "source": [
    "We check our work:"
   ]
  },
  {
   "cell_type": "code",
   "execution_count": null,
   "metadata": {},
   "outputs": [],
   "source": [
    "checkForNullEntries()"
   ]
  },
  {
   "cell_type": "markdown",
   "metadata": {},
   "source": [
    "Now we just need to clean ```duration```."
   ]
  },
  {
   "cell_type": "code",
   "execution_count": null,
   "metadata": {},
   "outputs": [],
   "source": [
    "duration_incomplete_entries"
   ]
  },
  {
   "cell_type": "markdown",
   "metadata": {},
   "source": [
    "While all these entries are movies and are from the United States, they make up a small portion of the data and their duration cannot be replaced. This data is best deleted."
   ]
  },
  {
   "cell_type": "code",
   "execution_count": null,
   "metadata": {},
   "outputs": [],
   "source": [
    "netflix = netflix.drop(netflix[netflix[\"duration\"].isnull()].index)"
   ]
  },
  {
   "cell_type": "markdown",
   "metadata": {},
   "source": [
    "Let us now check if we have missed any missing data:"
   ]
  },
  {
   "cell_type": "code",
   "execution_count": null,
   "metadata": {},
   "outputs": [],
   "source": [
    "checkForNullEntries()"
   ]
  },
  {
   "cell_type": "markdown",
   "metadata": {},
   "source": [
    "The final step before we can analyse our data is to sort the table. While not strictly needed, it'll make the task of examining the table itself easier."
   ]
  },
  {
   "cell_type": "code",
   "execution_count": null,
   "metadata": {},
   "outputs": [],
   "source": [
    "netflix = netflix.sort_values([\"country\", \"release_year\", \"type\", \"listed_in\"])\n",
    "netflix"
   ]
  },
  {
   "cell_type": "markdown",
   "metadata": {},
   "source": [
    "There's still one problem left with our data: the presence of some "
   ]
  },
  {
   "cell_type": "code",
   "execution_count": null,
   "metadata": {},
   "outputs": [],
   "source": []
  }
 ],
 "metadata": {
  "kernelspec": {
   "display_name": "Python 3.10.4 ('datacamp')",
   "language": "python",
   "name": "python3"
  },
  "language_info": {
   "codemirror_mode": {
    "name": "ipython",
    "version": 3
   },
   "file_extension": ".py",
   "mimetype": "text/x-python",
   "name": "python",
   "nbconvert_exporter": "python",
   "pygments_lexer": "ipython3",
   "version": "3.10.4"
  },
  "orig_nbformat": 4,
  "vscode": {
   "interpreter": {
    "hash": "b4e0fc6808c77be0f2e426d03bcf0bb785ffb2eb7c4d7e8b1be6a3360a80e386"
   }
  }
 },
 "nbformat": 4,
 "nbformat_minor": 2
}
